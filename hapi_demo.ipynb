{
 "cells": [
  {
   "cell_type": "code",
   "execution_count": 2,
   "metadata": {},
   "outputs": [
    {
     "data": {
      "application/javascript": [
       "// Notebook style configuration\n",
       "require.config({paths: {toc: \"//rawgit.com/rweigel/js-rsw/master/jupyter/toc\"}});require([\"toc\"]);\n"
      ],
      "text/plain": [
       "<IPython.core.display.Javascript object>"
      ]
     },
     "metadata": {},
     "output_type": "display_data"
    }
   ],
   "source": [
    "%%javascript\n",
    "// Notebook style configuration\n",
    "require.config({paths: {toc: \"//rawgit.com/rweigel/js-rsw/master/jupyter/toc\"}});require([\"toc\"]);"
   ]
  },
  {
   "cell_type": "code",
   "execution_count": 3,
   "metadata": {},
   "outputs": [
    {
     "name": "stdout",
     "output_type": "stream",
     "text": [
      "Requirement already satisfied: hapiclient in /Users/robertweigel/git/client-python (0.0.9b0)\n",
      "Requirement already satisfied: hapiplotserver>0.0.4 in /Users/robertweigel/anaconda3/envs/python3.6/lib/python3.6/site-packages/hapiplotserver-0.0.5b0-py3.6.egg (from hapiclient) (0.0.5b0)\n",
      "Requirement already satisfied: numpy>=1.14.3 in /Users/robertweigel/anaconda3/envs/python3.6/lib/python3.6/site-packages/numpy-1.16.3-py3.6-macosx-10.7-x86_64.egg (from hapiclient) (1.16.3)\n",
      "Requirement already satisfied: pandas<=0.24.*,>=0.23.* in /Users/robertweigel/anaconda3/envs/python3.6/lib/python3.6/site-packages/pandas-0.23.0-py3.6-macosx-10.7-x86_64.egg (from hapiclient) (0.23.0)\n",
      "Requirement already satisfied: isodate>=0.6.0 in /Users/robertweigel/anaconda3/envs/python3.6/lib/python3.6/site-packages/isodate-0.6.0-py3.6.egg (from hapiclient) (0.6.0)\n",
      "Requirement already satisfied: deepdiff<3.3.0 in /Users/robertweigel/anaconda3/envs/python3.6/lib/python3.6/site-packages/deepdiff-3.2.1-py3.6.egg (from hapiclient) (3.2.1)\n",
      "Requirement already satisfied: pytest in /Users/robertweigel/anaconda3/envs/python3.6/lib/python3.6/site-packages (from hapiclient) (4.4.1)\n",
      "Requirement already satisfied: matplotlib>=2.2.2 in /Users/robertweigel/anaconda3/envs/python3.6/lib/python3.6/site-packages/matplotlib-3.1.0rc1-py3.6-macosx-10.7-x86_64.egg (from hapiclient) (3.1.0rc1)\n",
      "Requirement already satisfied: Flask==1.0.2 in /Users/robertweigel/anaconda3/envs/python3.6/lib/python3.6/site-packages/Flask-1.0.2-py3.6.egg (from hapiplotserver>0.0.4->hapiclient) (1.0.2)\n",
      "Requirement already satisfied: gunicorn==19.9.0 in /Users/robertweigel/anaconda3/envs/python3.6/lib/python3.6/site-packages/gunicorn-19.9.0-py3.6.egg (from hapiplotserver>0.0.4->hapiclient) (19.9.0)\n",
      "Requirement already satisfied: python-dateutil>=2.5.0 in /Users/robertweigel/anaconda3/envs/python3.6/lib/python3.6/site-packages (from pandas<=0.24.*,>=0.23.*->hapiclient) (2.8.0)\n",
      "Requirement already satisfied: pytz>=2011k in /Users/robertweigel/anaconda3/envs/python3.6/lib/python3.6/site-packages/pytz-2019.1-py3.6.egg (from pandas<=0.24.*,>=0.23.*->hapiclient) (2019.1)\n",
      "Requirement already satisfied: six in /Users/robertweigel/anaconda3/envs/python3.6/lib/python3.6/site-packages (from isodate>=0.6.0->hapiclient) (1.12.0)\n",
      "Requirement already satisfied: jsonpickle in /Users/robertweigel/anaconda3/envs/python3.6/lib/python3.6/site-packages/jsonpickle-1.1-py3.6.egg (from deepdiff<3.3.0->hapiclient) (1.1)\n",
      "Requirement already satisfied: py>=1.5.0 in /Users/robertweigel/anaconda3/envs/python3.6/lib/python3.6/site-packages (from pytest->hapiclient) (1.8.0)\n",
      "Requirement already satisfied: attrs>=17.4.0 in /Users/robertweigel/anaconda3/envs/python3.6/lib/python3.6/site-packages (from pytest->hapiclient) (19.1.0)\n",
      "Requirement already satisfied: pluggy>=0.9 in /Users/robertweigel/anaconda3/envs/python3.6/lib/python3.6/site-packages (from pytest->hapiclient) (0.9.0)\n",
      "Requirement already satisfied: more-itertools>=4.0.0; python_version > \"2.7\" in /Users/robertweigel/anaconda3/envs/python3.6/lib/python3.6/site-packages (from pytest->hapiclient) (7.0.0)\n",
      "Requirement already satisfied: setuptools in /Users/robertweigel/anaconda3/envs/python3.6/lib/python3.6/site-packages (from pytest->hapiclient) (41.0.1)\n",
      "Requirement already satisfied: atomicwrites>=1.0 in /Users/robertweigel/anaconda3/envs/python3.6/lib/python3.6/site-packages (from pytest->hapiclient) (1.3.0)\n",
      "Requirement already satisfied: cycler>=0.10 in /Users/robertweigel/anaconda3/envs/python3.6/lib/python3.6/site-packages/cycler-0.10.0-py3.6.egg (from matplotlib>=2.2.2->hapiclient) (0.10.0)\n",
      "Requirement already satisfied: kiwisolver>=1.0.1 in /Users/robertweigel/anaconda3/envs/python3.6/lib/python3.6/site-packages/kiwisolver-1.1.0-py3.6-macosx-10.7-x86_64.egg (from matplotlib>=2.2.2->hapiclient) (1.1.0)\n",
      "Requirement already satisfied: pyparsing!=2.0.4,!=2.1.2,!=2.1.6,>=2.0.1 in /Users/robertweigel/anaconda3/envs/python3.6/lib/python3.6/site-packages/pyparsing-2.4.0-py3.6.egg (from matplotlib>=2.2.2->hapiclient) (2.4.0)\n",
      "Requirement already satisfied: Jinja2>=2.10 in /Users/robertweigel/anaconda3/envs/python3.6/lib/python3.6/site-packages (from Flask==1.0.2->hapiplotserver>0.0.4->hapiclient) (2.10.1)\n",
      "Requirement already satisfied: Werkzeug>=0.14 in /Users/robertweigel/anaconda3/envs/python3.6/lib/python3.6/site-packages/Werkzeug-0.15.2-py3.6.egg (from Flask==1.0.2->hapiplotserver>0.0.4->hapiclient) (0.15.2)\n",
      "Requirement already satisfied: click>=5.1 in /Users/robertweigel/anaconda3/envs/python3.6/lib/python3.6/site-packages/Click-7.0-py3.6.egg (from Flask==1.0.2->hapiplotserver>0.0.4->hapiclient) (7.0)\n",
      "Requirement already satisfied: itsdangerous>=0.24 in /Users/robertweigel/anaconda3/envs/python3.6/lib/python3.6/site-packages/itsdangerous-1.1.0-py3.6.egg (from Flask==1.0.2->hapiplotserver>0.0.4->hapiclient) (1.1.0)\n",
      "Requirement already satisfied: MarkupSafe>=0.23 in /Users/robertweigel/anaconda3/envs/python3.6/lib/python3.6/site-packages (from Jinja2>=2.10->Flask==1.0.2->hapiplotserver>0.0.4->hapiclient) (1.1.1)\n"
     ]
    }
   ],
   "source": [
    "!pip install hapiclient"
   ]
  },
  {
   "cell_type": "code",
   "execution_count": 13,
   "metadata": {},
   "outputs": [],
   "source": [
    "# Notebook plot style configuration (not working with jupyter notebook distributed with Python 3.7/Anaconda - \n",
    "# page goes mostly blank)\n",
    "#%config InlineBackend.figure_format = 'svg'\n",
    "\n",
    "# Show plots in page instead of opening a window\n",
    "%matplotlib inline"
   ]
  },
  {
   "cell_type": "markdown",
   "metadata": {},
   "source": [
    "The Heliophysics Application Programmer’s Interface (HAPI) data access specification is a RESTful API and streaming format specification for delivering digital time series data.\n",
    "\n",
    "This notebook demonstrates the features of a Python client that accesses data from HAPI-compliant data servers.\n",
    "\n",
    "To use this notebook locally\n",
    "\n",
    "1. [Install Anaconda](https://www.anaconda.com/download/) for Python 3\n",
    "2. On command line enter \n",
    "\n",
    "```bash\n",
    "which pip # Output should contain a directory path with \"anaconda3\"\n",
    "pip install hapiclient # Install hapiclient package\n",
    "curl -L -O https://rawgithub.com/hapi-server/client-python-notebooks/master/hapi_demo.ipynb\n",
    "jupyter-notebook hapi_demo.ipynb # Launches browser window\n",
    "```\n",
    "\n",
    "To test code in this notebook, click on a code area, edit, and hit `SHIFT-ENTER` to execute.\n",
    "\n",
    "For more information on HAPI-related software, see http://hapi-server.org/."
   ]
  },
  {
   "cell_type": "markdown",
   "metadata": {},
   "source": [
    "# Display documentation"
   ]
  },
  {
   "cell_type": "code",
   "execution_count": 10,
   "metadata": {},
   "outputs": [
    {
     "name": "stdout",
     "output_type": "stream",
     "text": [
      "Help on function hapi in module hapiclient.hapi:\n",
      "\n",
      "hapi(*args, **kwargs)\n",
      "    Request data from a HAPI server.\n",
      "    \n",
      "    For additional documentation and demonstration, see\n",
      "    <https://github.com/hapi-server/client-python/blob/master/hapi_demo.ipynb>\n",
      "    \n",
      "    Version: 0.0.9b0\n",
      "    \n",
      "    Parameters\n",
      "    ----------\n",
      "    server : str\n",
      "        A string with the url to the HAPI compliant server. A HAPI URL\n",
      "        always ends with \"/hapi\".\n",
      "    dataset : str\n",
      "        A string specifying a dataset from a server\n",
      "    parameters: str\n",
      "        Comma-separated list of parameters in dataset\n",
      "    start_time: str\n",
      "        The start time of the requested data\n",
      "    end_time: str\n",
      "        The end time of the requested data; end times are exclusive - the\n",
      "        last data record returned by a HAPI server should be before the\n",
      "        given end_time.\n",
      "    options : dict\n",
      "        The following options are available.\n",
      "            logging (False) - Log to console\n",
      "            cache (True) - Save responses and processed responses in cachedir\n",
      "            cachedir (./hapi-data)\n",
      "            usecache (True) - Use files in cachedir if found\n",
      "            serverlist (https://github.com/hapi-server/servers/raw/master/all.txt)\n",
      "    \n",
      "    Returns\n",
      "    -------\n",
      "    result : various\n",
      "        Results depend on the input parameters.\n",
      "    \n",
      "        Servers = hapi() returns a list of available HAPI server URLs from\n",
      "        <https://github.com/hapi-server/data-specification/blob/master/all.txt>\n",
      "    \n",
      "        Dataset = hapi(Server) returns a dict of datasets available from a\n",
      "        URL given by the string Server.  The dictionary structure follows the\n",
      "        HAPI JSON structure.\n",
      "    \n",
      "        Parameters = hapi(Server, Dataset) returns a dictionary of parameters\n",
      "        in the string Dataset.  The dictionary structure follows the HAPI JSON\n",
      "        structure.\n",
      "    \n",
      "        Metadata = hapi(Server, Dataset, Parameters) returns metadata\n",
      "        associated each parameter in the comma-separated string Parameters. The\n",
      "        dictionary structure follows the HAPI JSON structure.\n",
      "    \n",
      "        Data = hapi(Server, Dataset, Parameters, Start, Stop) returns a \n",
      "        dictionary with elements corresponding to Parameters, e.g., if\n",
      "        Parameters = 'scalar,vector' and the number of records in the time\n",
      "        range Start <= t < Stop returned is N, then\n",
      "    \n",
      "          Data['scalar'] is a NumPy array of shape (N)\n",
      "          Data['vector'] is a NumPy array of shape (N,3)\n",
      "          Data['Time'] is a NumPy array of byte literals with shape (N).\n",
      "          \n",
      "          Byte literal times can be converted to Python datetimes using \n",
      "          \n",
      "          dtarray = hapitime2datetime(Data['Time'])\n",
      "        \n",
      "        Data, Meta = hapi(Server, Dataset, Parameters, Start, Stop) returns\n",
      "        the metadata for parameters in Meta.\n",
      "    \n",
      "    References\n",
      "    ----------\n",
      "        * `HAPI Server Definition <https://github.com/hapi-server/data-specification>`\n",
      "    \n",
      "    Examples\n",
      "    ----------\n",
      "       See <https://github.com/hapi-server/client-python-notebooks>\n",
      "\n"
     ]
    }
   ],
   "source": [
    "from hapiclient.hapi import hapi\n",
    "help(hapi)"
   ]
  },
  {
   "cell_type": "markdown",
   "metadata": {},
   "source": [
    "# Examples\n",
    "\n",
    "## OMNIWeb data"
   ]
  },
  {
   "cell_type": "code",
   "execution_count": 32,
   "metadata": {},
   "outputs": [
    {
     "name": "stdout",
     "output_type": "stream",
     "text": [
      "hapi(): Running hapi.py version 0.0.9b0\n",
      "hapi(): hapi(): file directory = cdaweb.gsfc.nasa.gov_hapi\n",
      "hapi(): Reading https://cdaweb.gsfc.nasa.gov/hapi/info?id=OMNI2_H0_MRG1HR\n",
      "hapi(): Writing OMNI2_H0_MRG1HR.json \n",
      "hapi(): Writing OMNI2_H0_MRG1HR.pkl \n",
      "hapi(): Reading https://cdaweb.gsfc.nasa.gov/hapi/capabilities\n",
      "hapi(): Writing https://cdaweb.gsfc.nasa.gov/hapi/data?id=OMNI2_H0_MRG1HR&parameters=DST1800&time.min=2003-09-01T00:00:00&time.max=2003-12-01T00:00:00&format=binary to OMNI2_H0_MRG1HR_DST1800_20030901T000000_20031201T000000.bin\n",
      "hapi(): Reading OMNI2_H0_MRG1HR_DST1800_20030901T000000_20031201T000000.bin\n",
      "hapi(): Writing cdaweb.gsfc.nasa.gov_hapi/OMNI2_H0_MRG1HR_DST1800_20030901T000000_20031201T000000.pkl\n",
      "hapi(): Writing cdaweb.gsfc.nasa.gov_hapi/OMNI2_H0_MRG1HR_DST1800_20030901T000000_20031201T000000.npy\n"
     ]
    },
    {
     "data": {
      "text/plain": [
       "{'HAPI': '2.0',\n",
       " 'status': {'code': 1200, 'message': 'OK'},\n",
       " 'parameters': [{'name': 'Time',\n",
       "   'type': 'isotime',\n",
       "   'units': 'UTC',\n",
       "   'length': 24,\n",
       "   'fill': None},\n",
       "  {'name': 'DST1800',\n",
       "   'type': 'integer',\n",
       "   'units': 'nT',\n",
       "   'fill': '99999',\n",
       "   'description': 'Dst - 1-hour Dst index (1963/001-2014/366), Provisional Dst (2015/001-2016/366), Quick-look Dst (2017/001-2019/111), from WDC Kyoto'}],\n",
       " 'startDate': '1970-01-01T00:00:00Z',\n",
       " 'stopDate': '2019-04-22T16:00:00Z',\n",
       " 'resourceURL': 'https://cdaweb.sci.gsfc.nasa.gov/misc/Notes.html#OMNI2_H0_MRG1HR',\n",
       " 'contact': 'voycrs@gmail.com',\n",
       " 'x_server': 'https://cdaweb.gsfc.nasa.gov/hapi',\n",
       " 'x_dataset': 'OMNI2_H0_MRG1HR',\n",
       " 'x_parameters': 'DST1800',\n",
       " 'x_time.min': '2003-09-01T00:00:00',\n",
       " 'x_time.max': '2003-12-01T00:00:00',\n",
       " 'x_requestDate': '2019-05-16T10:59:44',\n",
       " 'x_cacheDir': '/var/folders/_p/1v6cbz012xvfz3m77y5_kvz80000gn/T/hapi-data/cdaweb.gsfc.nasa.gov_hapi',\n",
       " 'x_downloadTime': 0.6396379470825195,\n",
       " 'x_readTime': 0.0014128684997558594,\n",
       " 'x_metaFileParsed': '/var/folders/_p/1v6cbz012xvfz3m77y5_kvz80000gn/T/hapi-data/cdaweb.gsfc.nasa.gov_hapi/OMNI2_H0_MRG1HR.pkl',\n",
       " 'x_dataFileParsed': '/var/folders/_p/1v6cbz012xvfz3m77y5_kvz80000gn/T/hapi-data/cdaweb.gsfc.nasa.gov_hapi/OMNI2_H0_MRG1HR_DST1800_20030901T000000_20031201T000000.npy',\n",
       " 'x_metaFile': '/var/folders/_p/1v6cbz012xvfz3m77y5_kvz80000gn/T/hapi-data/cdaweb.gsfc.nasa.gov_hapi/OMNI2_H0_MRG1HR.json',\n",
       " 'x_dataFile': '/var/folders/_p/1v6cbz012xvfz3m77y5_kvz80000gn/T/hapi-data/cdaweb.gsfc.nasa.gov_hapi/OMNI2_H0_MRG1HR_DST1800_20030901T000000_20031201T000000.bin'}"
      ]
     },
     "metadata": {},
     "output_type": "display_data"
    },
    {
     "data": {
      "image/png": "[encoded data removed]",
      "text/plain": [
       "<Figure size 1008x432 with 1 Axes>"
      ]
     },
     "metadata": {
      "needs_background": "light"
     },
     "output_type": "display_data"
    },
    {
     "name": "stdout",
     "output_type": "stream",
     "text": [
      "\n",
      "dateTimes = \n"
     ]
    },
    {
     "data": {
      "text/plain": [
       "array([datetime.datetime(2003, 9, 1, 0, 30, tzinfo=<UTC>),\n",
       "       datetime.datetime(2003, 9, 1, 1, 30, tzinfo=<UTC>),\n",
       "       datetime.datetime(2003, 9, 1, 2, 30, tzinfo=<UTC>), ...,\n",
       "       datetime.datetime(2003, 11, 30, 21, 30, tzinfo=<UTC>),\n",
       "       datetime.datetime(2003, 11, 30, 22, 30, tzinfo=<UTC>),\n",
       "       datetime.datetime(2003, 11, 30, 23, 30, tzinfo=<UTC>)],\n",
       "      dtype=object)"
      ]
     },
     "metadata": {},
     "output_type": "display_data"
    },
    {
     "name": "stdout",
     "output_type": "stream",
     "text": [
      "\n",
      "DST1800 =\n"
     ]
    },
    {
     "data": {
      "text/plain": [
       "array([datetime.datetime(2003, 9, 1, 0, 30, tzinfo=<UTC>),\n",
       "       datetime.datetime(2003, 9, 1, 1, 30, tzinfo=<UTC>),\n",
       "       datetime.datetime(2003, 9, 1, 2, 30, tzinfo=<UTC>), ...,\n",
       "       datetime.datetime(2003, 11, 30, 21, 30, tzinfo=<UTC>),\n",
       "       datetime.datetime(2003, 11, 30, 22, 30, tzinfo=<UTC>),\n",
       "       datetime.datetime(2003, 11, 30, 23, 30, tzinfo=<UTC>)],\n",
       "      dtype=object)"
      ]
     },
     "metadata": {},
     "output_type": "display_data"
    }
   ],
   "source": [
    "from hapiclient import hapi\n",
    "from hapiclient import hapiplot\n",
    "from hapiclient.util import pythonshell\n",
    "\n",
    "server     = 'https://cdaweb.gsfc.nasa.gov/hapi'\n",
    "dataset    = 'OMNI2_H0_MRG1HR' # See section 5 for information on finding list of datasets\n",
    "start      = '2003-09-01T00:00:00'\n",
    "stop       = '2003-12-01T00:00:00'\n",
    "parameters = 'DST1800' # See section 5 for information on finding parameters in dataset\n",
    "opts       = {'logging': True, 'usecache': False}\n",
    "\n",
    "# Get parameter data. See section 5 for for information on getting available datasets and parameters\n",
    "data, meta = hapi(server, dataset, parameters, start, stop, **opts)\n",
    "\n",
    "# Print meta using display() function if using IPython or Jupyter Notebook\n",
    "print(meta) if pythonshell() == 'python' else display(meta)\n",
    "\n",
    "# Plot all parameters in data. See also section 4 for information\n",
    "# on using other plotting functions, e.g., Matplotlib\n",
    "hapiplot(data, meta)\n",
    "\n",
    "# Extract time values as datetime objects. See section 3 for more details.\n",
    "from hapiclient import hapitime2datetime\n",
    "\n",
    "dateTimes = hapitime2datetime(data['Time'])\n",
    "print(\"\\ndateTimes = \")\n",
    "print(dateTimes) if pythonshell() == 'python' else display(dateTimes)\n",
    "\n",
    "# Extract one of the parameters as NumPy array\n",
    "BGSEc = data['DST1800']\n",
    "print(\"\\nDST1800 =\")\n",
    "print(dateTimes) if pythonshell() == 'python' else display(dateTimes)\n"
   ]
  },
  {
   "cell_type": "markdown",
   "metadata": {},
   "source": [
    "## SSCWeb data"
   ]
  },
  {
   "cell_type": "code",
   "execution_count": 31,
   "metadata": {},
   "outputs": [
    {
     "name": "stdout",
     "output_type": "stream",
     "text": [
      "hapi(): Running hapi.py version 0.0.9b0\n",
      "hapi(): hapi(): file directory = hapi-server.org_servers_SSCWeb_hapi\n",
      "hapi(): Reading http://hapi-server.org/servers/SSCWeb/hapi/info?id=ace\n",
      "hapi(): Writing ace.json \n",
      "hapi(): Writing ace.pkl \n",
      "hapi(): Reading http://hapi-server.org/servers/SSCWeb/hapi/capabilities\n",
      "hapi(): Writing http://hapi-server.org/servers/SSCWeb/hapi/data?id=ace&parameters=X_GSE,Y_GSE,Z_GSE&time.min=2001-01-01T05:00:00&time.max=2001-01-01T06:00:00&format=binary to ace_X_GSE-Y_GSE-Z_GSE_20010101T050000_20010101T060000.bin\n",
      "hapi(): Reading ace_X_GSE-Y_GSE-Z_GSE_20010101T050000_20010101T060000.bin\n",
      "hapi(): Writing hapi-server.org_servers_SSCWeb_hapi/ace_X_GSE-Y_GSE-Z_GSE_20010101T050000_20010101T060000.pkl\n",
      "hapi(): Writing hapi-server.org_servers_SSCWeb_hapi/ace_X_GSE-Y_GSE-Z_GSE_20010101T050000_20010101T060000.npy\n"
     ]
    },
    {
     "data": {
      "image/png": "[encoded data removed]",
      "text/plain": [
       "<Figure size 1008x432 with 1 Axes>"
      ]
     },
     "metadata": {
      "needs_background": "light"
     },
     "output_type": "display_data"
    },
    {
     "data": {
      "image/png": "[encoded data removed]",
      "text/plain": [
       "<Figure size 1008x432 with 1 Axes>"
      ]
     },
     "metadata": {
      "needs_background": "light"
     },
     "output_type": "display_data"
    },
    {
     "data": {
      "image/png": "[encoded data removed]",
      "text/plain": [
       "<Figure size 1008x432 with 1 Axes>"
      ]
     },
     "metadata": {
      "needs_background": "light"
     },
     "output_type": "display_data"
    },
    {
     "data": {
      "text/plain": [
       "{'startDate': '1997-08-25T17:48:00.000Z',\n",
       " 'stopDate': '2019-02-04T23:36:00.000Z',\n",
       " 'cadence': 'PT720S',\n",
       " 'description': 'Ephemeris data',\n",
       " 'resourceURL': 'https://sscweb.sci.gsfc.nasa.gov/',\n",
       " 'parameters': [{'name': 'Time',\n",
       "   'type': 'isotime',\n",
       "   'units': 'UTC',\n",
       "   'fill': None,\n",
       "   'length': 18},\n",
       "  {'name': 'X_GSE',\n",
       "   'description': 'X Position in the Geocentric Solar Ecliptic coordinate system',\n",
       "   'units': 'R_E',\n",
       "   'fill': '1e31',\n",
       "   'type': 'double',\n",
       "   'hapiplot': {'figure': <Figure size 1008x432 with 1 Axes>}},\n",
       "  {'name': 'Y_GSE',\n",
       "   'description': 'Y Position in the Geocentric Solar Ecliptic coordinate system',\n",
       "   'units': 'R_E',\n",
       "   'fill': '1e31',\n",
       "   'type': 'double',\n",
       "   'hapiplot': {'figure': <Figure size 1008x432 with 1 Axes>}},\n",
       "  {'name': 'Z_GSE',\n",
       "   'description': 'Z Position in the Geocentric Solar Ecliptic coordinate system',\n",
       "   'units': 'R_E',\n",
       "   'fill': '1e31',\n",
       "   'type': 'double',\n",
       "   'hapiplot': {'figure': <Figure size 1008x432 with 1 Axes>}}],\n",
       " 'HAPI': '2.0',\n",
       " 'status': {'code': 1200, 'message': 'OK'},\n",
       " 'x_server': 'http://hapi-server.org/servers/SSCWeb/hapi',\n",
       " 'x_dataset': 'ace',\n",
       " 'x_parameters': 'X_GSE,Y_GSE,Z_GSE',\n",
       " 'x_time.min': '2001-01-01T05:00:00',\n",
       " 'x_time.max': '2001-01-01T06:00:00',\n",
       " 'x_requestDate': '2019-05-16T10:57:23',\n",
       " 'x_cacheDir': '/var/folders/_p/1v6cbz012xvfz3m77y5_kvz80000gn/T/hapi-data/hapi-server.org_servers_SSCWeb_hapi',\n",
       " 'x_downloadTime': 0.7114529609680176,\n",
       " 'x_readTime': 0.00048422813415527344,\n",
       " 'x_metaFileParsed': '/var/folders/_p/1v6cbz012xvfz3m77y5_kvz80000gn/T/hapi-data/hapi-server.org_servers_SSCWeb_hapi/ace.pkl',\n",
       " 'x_dataFileParsed': '/var/folders/_p/1v6cbz012xvfz3m77y5_kvz80000gn/T/hapi-data/hapi-server.org_servers_SSCWeb_hapi/ace_X_GSE-Y_GSE-Z_GSE_20010101T050000_20010101T060000.npy',\n",
       " 'x_metaFile': '/var/folders/_p/1v6cbz012xvfz3m77y5_kvz80000gn/T/hapi-data/hapi-server.org_servers_SSCWeb_hapi/ace.json',\n",
       " 'x_dataFile': '/var/folders/_p/1v6cbz012xvfz3m77y5_kvz80000gn/T/hapi-data/hapi-server.org_servers_SSCWeb_hapi/ace_X_GSE-Y_GSE-Z_GSE_20010101T050000_20010101T060000.bin'}"
      ]
     },
     "execution_count": 31,
     "metadata": {},
     "output_type": "execute_result"
    }
   ],
   "source": [
    "from hapiclient import hapi\n",
    "from hapiclient import hapiplot\n",
    "\n",
    "server     = 'http://hapi-server.org/servers/SSCWeb/hapi'\n",
    "dataset    = 'ace'\n",
    "start      = '2001-01-01T05:00:00'\n",
    "stop       = '2001-01-01T06:00:00'\n",
    "parameters = 'X_GSE,Y_GSE,Z_GSE'\n",
    "opts       = {'logging': True, 'usecache': False}\n",
    "\n",
    "# Get parameter data. See section 5 for for information on getting available datasets and parameters\n",
    "data, meta = hapi(server, dataset, parameters, start, stop, **opts)\n",
    "\n",
    "# Plot all parameters. See section 3 and 4 for information\n",
    "# on extracting data and using other plotting functions.\n",
    "hapiplot(data, meta)"
   ]
  },
  {
   "cell_type": "markdown",
   "metadata": {},
   "source": [
    "## CDAWeb data"
   ]
  },
  {
   "cell_type": "code",
   "execution_count": 6,
   "metadata": {},
   "outputs": [
    {
     "name": "stdout",
     "output_type": "stream",
     "text": [
      "hapi(): Running hapi.py version 0.0.9b0\n",
      "hapi(): hapi(): file directory = cdaweb.gsfc.nasa.gov_hapi\n",
      "hapi(): Reading https://cdaweb.gsfc.nasa.gov/hapi/info?id=AC_H0_MFI\n",
      "hapi(): Writing AC_H0_MFI.json \n",
      "hapi(): Writing AC_H0_MFI.pkl \n",
      "hapi(): Reading https://cdaweb.gsfc.nasa.gov/hapi/capabilities\n",
      "hapi(): Writing https://cdaweb.gsfc.nasa.gov/hapi/data?id=AC_H0_MFI&parameters=Magnitude,BGSEc&time.min=2001-01-01T05:00:00&time.max=2001-01-01T06:00:00&format=binary to AC_H0_MFI_Magnitude-BGSEc_20010101T050000_20010101T060000.bin\n",
      "hapi(): Reading AC_H0_MFI_Magnitude-BGSEc_20010101T050000_20010101T060000.bin\n",
      "hapi(): Writing cdaweb.gsfc.nasa.gov_hapi/AC_H0_MFI_Magnitude-BGSEc_20010101T050000_20010101T060000.pkl\n",
      "hapi(): Writing cdaweb.gsfc.nasa.gov_hapi/AC_H0_MFI_Magnitude-BGSEc_20010101T050000_20010101T060000.npy\n"
     ]
    },
    {
     "data": {
      "text/plain": [
       "{'HAPI': '2.0',\n",
       " 'status': {'code': 1200, 'message': 'OK'},\n",
       " 'parameters': [{'name': 'Time',\n",
       "   'type': 'isotime',\n",
       "   'units': 'UTC',\n",
       "   'length': 24,\n",
       "   'fill': None},\n",
       "  {'name': 'Magnitude',\n",
       "   'type': 'double',\n",
       "   'units': 'nT',\n",
       "   'fill': '-1.0E31',\n",
       "   'description': 'B-field magnitude',\n",
       "   'hapiplot': {'figure': <Figure size 2016x814 with 1 Axes>}},\n",
       "  {'name': 'BGSEc',\n",
       "   'type': 'double',\n",
       "   'units': 'nT',\n",
       "   'fill': '-1.0E31',\n",
       "   'description': 'Magnetic Field Vector in GSE Cartesian coordinates (16 sec)',\n",
       "   'size': [3],\n",
       "   'hapiplot': {'figure': <Figure size 2016x814 with 1 Axes>}}],\n",
       " 'startDate': '1997-09-02T00:00:12Z',\n",
       " 'stopDate': '2019-02-15T23:59:50Z',\n",
       " 'resourceURL': 'https://cdaweb.sci.gsfc.nasa.gov/misc/Notes.html#AC_H0_MFI',\n",
       " 'contact': 'voycrs@gmail.com',\n",
       " 'x_server': 'https://cdaweb.gsfc.nasa.gov/hapi',\n",
       " 'x_dataset': 'AC_H0_MFI',\n",
       " 'x_parameters': 'Magnitude,BGSEc',\n",
       " 'x_time.min': '2001-01-01T05:00:00',\n",
       " 'x_time.max': '2001-01-01T06:00:00',\n",
       " 'x_requestDate': '2019-05-15T22:39:30',\n",
       " 'x_cacheDir': '/var/folders/_p/1v6cbz012xvfz3m77y5_kvz80000gn/T/hapi-data/cdaweb.gsfc.nasa.gov_hapi',\n",
       " 'x_downloadTime': 0.25660085678100586,\n",
       " 'x_readTime': 0.0004520416259765625,\n",
       " 'x_metaFileParsed': '/var/folders/_p/1v6cbz012xvfz3m77y5_kvz80000gn/T/hapi-data/cdaweb.gsfc.nasa.gov_hapi/AC_H0_MFI.pkl',\n",
       " 'x_dataFileParsed': '/var/folders/_p/1v6cbz012xvfz3m77y5_kvz80000gn/T/hapi-data/cdaweb.gsfc.nasa.gov_hapi/AC_H0_MFI_Magnitude-BGSEc_20010101T050000_20010101T060000.npy',\n",
       " 'x_metaFile': '/var/folders/_p/1v6cbz012xvfz3m77y5_kvz80000gn/T/hapi-data/cdaweb.gsfc.nasa.gov_hapi/AC_H0_MFI.json',\n",
       " 'x_dataFile': '/var/folders/_p/1v6cbz012xvfz3m77y5_kvz80000gn/T/hapi-data/cdaweb.gsfc.nasa.gov_hapi/AC_H0_MFI_Magnitude-BGSEc_20010101T050000_20010101T060000.bin'}"
      ]
     },
     "execution_count": 6,
     "metadata": {},
     "output_type": "execute_result"
    }
   ],
   "source": [
    "from hapiclient import hapi\n",
    "from hapiclient import hapiplot\n",
    "\n",
    "server     = 'https://cdaweb.gsfc.nasa.gov/hapi'\n",
    "dataset    = 'AC_H0_MFI'\n",
    "start      = '2001-01-01T05:00:00'\n",
    "stop       = '2001-01-01T06:00:00'\n",
    "parameters = 'Magnitude,BGSEc'\n",
    "opts       = {'logging': True, 'usecache': True}\n",
    "\n",
    "# Get data\n",
    "data, meta = hapi(server, dataset, parameters, start, stop, **opts)\n",
    "\n",
    "# Plot all parameters. See section 3 and 4 for information\n",
    "# on extracting data and using other plotting functions.\n",
    "hapiplot(data, meta)"
   ]
  },
  {
   "cell_type": "markdown",
   "metadata": {},
   "source": [
    "## CASSINI"
   ]
  },
  {
   "cell_type": "code",
   "execution_count": 1,
   "metadata": {},
   "outputs": [
    {
     "name": "stdout",
     "output_type": "stream",
     "text": [
      "\u001b[31mheatmap() warning: \u001b[0mOnly bin centers given for x and bin separation distance is not constant. Bin width assumed based on separation distance and data pickers will not work properly.\n"
     ]
    },
    {
     "data": {
      "text/plain": [
       "{'HAPI': '2.0',\n",
       " 'status': {'code': 1200, 'message': 'OK'},\n",
       " 'parameters': [{'name': 'Epoch',\n",
       "   'type': 'isotime',\n",
       "   'length': 22,\n",
       "   'units': 'UTC',\n",
       "   'fill': None,\n",
       "   'description': 'time as UTC string to milliseconds'},\n",
       "  {'name': 'HPlus_BEST_T1',\n",
       "   'type': 'double',\n",
       "   'units': 'particles/s/keV/cm^2/ster',\n",
       "   'size': [32],\n",
       "   'fill': '-1.0e38',\n",
       "   'description': 'HPlus_BEST_T1',\n",
       "   'bins': [{'name': 'energy',\n",
       "     'units': 'keV',\n",
       "     'centers': [2.809683857215968,\n",
       "      3.289629854178126,\n",
       "      3.7795747260769956,\n",
       "      4.399504972153117,\n",
       "      5.049431843039373,\n",
       "      5.859340712913015,\n",
       "      6.74924058228035,\n",
       "      7.809121325571782,\n",
       "      8.918996443546773,\n",
       "      10.298841184812979,\n",
       "      11.798672425319724,\n",
       "      13.598469913927815,\n",
       "      15.698233650637256,\n",
       "      18.09796363544805,\n",
       "      20.79765986836019,\n",
       "      23.897311098740794,\n",
       "      27.39691732658986,\n",
       "      31.496456050641633,\n",
       "      36.1959272708961,\n",
       "      41.59531973672038,\n",
       "      47.79462219748159,\n",
       "      54.89382340254684,\n",
       "      63.1928896000175,\n",
       "      72.59183204052643,\n",
       "      83.390616972175,\n",
       "      95.88921064306453,\n",
       "      110.08761305319503,\n",
       "      126.58575669876923,\n",
       "      145.28365283041998,\n",
       "      166.8812226937171,\n",
       "      191.57844378739483,\n",
       "      220.17522610639006],\n",
       "     'ranges': [[2.76785, 2.85215],\n",
       "      [3.24065, 3.3393499999999996],\n",
       "      [3.7232999999999996, 3.8366999999999996],\n",
       "      [4.3340000000000005, 4.466],\n",
       "      [4.97425, 5.125749999999999],\n",
       "      [5.7721, 5.9479],\n",
       "      [6.64875, 6.851249999999999],\n",
       "      [7.692849999999999, 7.927149999999999],\n",
       "      [8.7862, 9.053799999999999],\n",
       "      [10.1455, 10.4545],\n",
       "      [11.623000000000001, 11.977],\n",
       "      [13.395999999999999, 13.803999999999998],\n",
       "      [15.4645, 15.935499999999998],\n",
       "      [17.828500000000002, 18.3715],\n",
       "      [20.488, 21.112],\n",
       "      [23.5415, 24.258499999999998],\n",
       "      [26.988999999999997, 27.810999999999996],\n",
       "      [31.0275, 31.972499999999997],\n",
       "      [35.657000000000004, 36.743],\n",
       "      [40.976, 42.224],\n",
       "      [47.083, 48.516999999999996],\n",
       "      [54.076499999999996, 55.723499999999994],\n",
       "      [62.252, 64.148],\n",
       "      [71.511, 73.689],\n",
       "      [82.149, 84.651],\n",
       "      [94.4615, 97.3385],\n",
       "      [108.4485, 111.75149999999998],\n",
       "      [124.701, 128.499],\n",
       "      [143.12050000000002, 147.4795],\n",
       "      [164.3965, 169.40349999999998],\n",
       "      [188.726, 194.474],\n",
       "      [216.897, 223.50299999999996]]}],\n",
       "   'hapiplot': {'figure': <Figure size 2016x864 with 2 Axes>,\n",
       "    'colorbar': <matplotlib.colorbar.Colorbar at 0x11f415160>}}],\n",
       " 'startDate': '2004-001T00:00:04.734Z',\n",
       " 'stopDate': '2017-258T10:31:10.425Z',\n",
       " 'sampleStartDate': '2004-183T00:00:00.000Z',\n",
       " 'sampleStopDate': '2004-184T00:00:00.000Z',\n",
       " 'description': 'CHEMS PHA flux box intensities for many species at the highest time resolution',\n",
       " 'resourceURL': 'http://cassini-mimi.jhuapl.edu/MIDL/data/CPHAFULL0',\n",
       " 'creationDate': '2019-136T02:39:30.000Z',\n",
       " 'cadence': 'PT1M',\n",
       " 'x_server': 'http://datashop.elasticbeanstalk.com/hapi',\n",
       " 'x_dataset': 'CHEMS_PHA_BOX_FLUXES_FULL_TIME_RES',\n",
       " 'x_parameters': 'HPlus_BEST_T1',\n",
       " 'x_time.min': '2004-07-01T04:00:00Z',\n",
       " 'x_time.max': '2004-07-01T06:00:00Z',\n",
       " 'x_requestDate': '2019-05-15T22:39:36',\n",
       " 'x_cacheDir': '/var/folders/_p/1v6cbz012xvfz3m77y5_kvz80000gn/T/hapi-data/datashop.elasticbeanstalk.com_hapi',\n",
       " 'x_downloadTime': 4.8276331424713135,\n",
       " 'x_readTime': 0.0015342235565185547,\n",
       " 'x_metaFileParsed': '/var/folders/_p/1v6cbz012xvfz3m77y5_kvz80000gn/T/hapi-data/datashop.elasticbeanstalk.com_hapi/CHEMS_PHA_BOX_FLUXES_FULL_TIME_RES.pkl',\n",
       " 'x_dataFileParsed': '/var/folders/_p/1v6cbz012xvfz3m77y5_kvz80000gn/T/hapi-data/datashop.elasticbeanstalk.com_hapi/CHEMS_PHA_BOX_FLUXES_FULL_TIME_RES_HPlus_BEST_T1_20040701T040000_20040701T060000.npy',\n",
       " 'x_metaFile': '/var/folders/_p/1v6cbz012xvfz3m77y5_kvz80000gn/T/hapi-data/datashop.elasticbeanstalk.com_hapi/CHEMS_PHA_BOX_FLUXES_FULL_TIME_RES.json',\n",
       " 'x_dataFile': '/var/folders/_p/1v6cbz012xvfz3m77y5_kvz80000gn/T/hapi-data/datashop.elasticbeanstalk.com_hapi/CHEMS_PHA_BOX_FLUXES_FULL_TIME_RES_HPlus_BEST_T1_20040701T040000_20040701T060000.bin'}"
      ]
     },
     "execution_count": 1,
     "metadata": {},
     "output_type": "execute_result"
    }
   ],
   "source": [
    "from hapiclient import hapi\n",
    "from hapiclient import hapiplot\n",
    "\n",
    "server     = 'http://datashop.elasticbeanstalk.com/hapi';\n",
    "dataset    = 'CHEMS_PHA_BOX_FLUXES_FULL_TIME_RES';\n",
    "parameters = 'HPlus_BEST_T1';\n",
    "start      = '2004-07-01T04:00:00Z';\n",
    "stop       = '2004-07-01T06:00:00Z';\n",
    "opts       = {'usecache': True}\n",
    "\n",
    "# Get parameter data. See section 5 for for information on getting available datasets and parameters\n",
    "data,meta = hapi(server, dataset, parameters, start, stop, **opts)\n",
    "\n",
    "# Plot all parameters. See section 3 and 4 for information\n",
    "# on extracting data and using other plotting functions.\n",
    "popts = {'logging': False, 'logy': True, 'logz': True}\n",
    "hapiplot(data, meta, **popts)"
   ]
  },
  {
   "cell_type": "markdown",
   "metadata": {},
   "source": [
    "# Data Model\n",
    "\n",
    "A request for data of the form\n",
    "```\n",
    "data, meta = hapi(server, dataset, parameters, start, stop)\n",
    "```\n",
    "returns the [Numpy N-D array](https://docs.scipy.org/doc/numpy-1.15.1/user/quickstart.html) `data` and a Python dictionary `meta` from a HAPI-compliant data server `server`. The structure of `meta` mirrors the structure of the metadata response from a HAPI server.\n",
    "\n",
    "The basic data structure returned by all HAPI servers is a CSV file in which the first column is a time stamp and subsequent columns are data measured or associated with that time stamp. The columns are mapped to one or more parameters (that may be multi-dimensional arrays) using the metadata associated with the request for CSV data.\n",
    "\n",
    "For more information on the HAPI server specification, see https://github.com/hapi-server/data-specification. Note that `hapi.py` requests HAPI Binary from a server if that feature is available; a HAPI compliant server is only required to serve HAPI CSV."
   ]
  },
  {
   "cell_type": "markdown",
   "metadata": {},
   "source": [
    "## Extracting Data"
   ]
  },
  {
   "cell_type": "code",
   "execution_count": 10,
   "metadata": {},
   "outputs": [],
   "source": [
    "from hapiclient.hapi import hapi\n",
    "\n",
    "server     = 'http://hapi-server.org/servers/TestData/hapi'\n",
    "dataset    = 'dataset1'\n",
    "parameters = 'scalar,vector'\n",
    "start      = '1970-01-01T00:00:00'\n",
    "stop       = '1970-01-01T00:00:10'\n",
    "\n",
    "data,meta = hapi(server,dataset,parameters,start,stop)"
   ]
  },
  {
   "cell_type": "markdown",
   "metadata": {},
   "source": [
    "`data` is a Numpy N-D array with named fields `Time`, `scalar`, and `vector`. The array has 10 elements (one for each time value) and each element is a list."
   ]
  },
  {
   "cell_type": "code",
   "execution_count": null,
   "metadata": {},
   "outputs": [],
   "source": [
    "data"
   ]
  },
  {
   "cell_type": "markdown",
   "metadata": {},
   "source": [
    "Access all values for parameter `Time`"
   ]
  },
  {
   "cell_type": "code",
   "execution_count": 11,
   "metadata": {},
   "outputs": [
    {
     "data": {
      "text/plain": [
       "array([b'1970-01-01T00:00:00.000Z', b'1970-01-01T00:00:01.000Z',\n",
       "       b'1970-01-01T00:00:02.000Z', b'1970-01-01T00:00:03.000Z',\n",
       "       b'1970-01-01T00:00:04.000Z', b'1970-01-01T00:00:05.000Z',\n",
       "       b'1970-01-01T00:00:06.000Z', b'1970-01-01T00:00:07.000Z',\n",
       "       b'1970-01-01T00:00:08.000Z', b'1970-01-01T00:00:09.000Z'],\n",
       "      dtype='|S24')"
      ]
     },
     "execution_count": 11,
     "metadata": {},
     "output_type": "execute_result"
    }
   ],
   "source": [
    "data['Time']"
   ]
  },
  {
   "cell_type": "markdown",
   "metadata": {},
   "source": [
    "Convert elements of `Time` to Python `datetime` objects"
   ]
  },
  {
   "cell_type": "code",
   "execution_count": 12,
   "metadata": {},
   "outputs": [
    {
     "data": {
      "text/plain": [
       "array([datetime.datetime(1970, 1, 1, 0, 0, tzinfo=<UTC>),\n",
       "       datetime.datetime(1970, 1, 1, 0, 0, 1, tzinfo=<UTC>),\n",
       "       datetime.datetime(1970, 1, 1, 0, 0, 2, tzinfo=<UTC>),\n",
       "       datetime.datetime(1970, 1, 1, 0, 0, 3, tzinfo=<UTC>),\n",
       "       datetime.datetime(1970, 1, 1, 0, 0, 4, tzinfo=<UTC>),\n",
       "       datetime.datetime(1970, 1, 1, 0, 0, 5, tzinfo=<UTC>),\n",
       "       datetime.datetime(1970, 1, 1, 0, 0, 6, tzinfo=<UTC>),\n",
       "       datetime.datetime(1970, 1, 1, 0, 0, 7, tzinfo=<UTC>),\n",
       "       datetime.datetime(1970, 1, 1, 0, 0, 8, tzinfo=<UTC>),\n",
       "       datetime.datetime(1970, 1, 1, 0, 0, 9, tzinfo=<UTC>)], dtype=object)"
      ]
     },
     "execution_count": 12,
     "metadata": {},
     "output_type": "execute_result"
    }
   ],
   "source": [
    "from hapiclient.hapi import hapitime2datetime\n",
    "dateTime = hapitime2datetime(data['Time'])\n",
    "dateTime"
   ]
  },
  {
   "cell_type": "markdown",
   "metadata": {},
   "source": [
    "Access all values for parameter `vector`"
   ]
  },
  {
   "cell_type": "code",
   "execution_count": 13,
   "metadata": {},
   "outputs": [
    {
     "data": {
      "text/plain": [
       "array([[ 0.        , -0.70710678, -1.        ],\n",
       "       [ 0.00523596, -0.7033947 , -0.99998629],\n",
       "       [ 0.01047178, -0.69966334, -0.99994517],\n",
       "       [ 0.01570732, -0.6959128 , -0.99987663],\n",
       "       [ 0.02094242, -0.69214317, -0.99978068],\n",
       "       [ 0.02617695, -0.68835458, -0.99965732],\n",
       "       [ 0.03141076, -0.68454711, -0.99950656],\n",
       "       [ 0.03664371, -0.68072087, -0.99932839],\n",
       "       [ 0.04187565, -0.67687597, -0.99912283],\n",
       "       [ 0.04710645, -0.67301251, -0.99888987]])"
      ]
     },
     "execution_count": 13,
     "metadata": {},
     "output_type": "execute_result"
    }
   ],
   "source": [
    "data['vector']"
   ]
  },
  {
   "cell_type": "markdown",
   "metadata": {},
   "source": [
    "Access first element (all parameters at first time)"
   ]
  },
  {
   "cell_type": "code",
   "execution_count": 14,
   "metadata": {},
   "outputs": [
    {
     "data": {
      "text/plain": [
       "(b'1970-01-01T00:00:00.000Z', 0., [ 0.        , -0.70710678, -1.        ])"
      ]
     },
     "execution_count": 14,
     "metadata": {},
     "output_type": "execute_result"
    }
   ],
   "source": [
    "data[0]"
   ]
  },
  {
   "cell_type": "markdown",
   "metadata": {},
   "source": [
    "Access value of `vector` at second timestep."
   ]
  },
  {
   "cell_type": "code",
   "execution_count": 15,
   "metadata": {},
   "outputs": [
    {
     "data": {
      "text/plain": [
       "array([ 0.00523596, -0.7033947 , -0.99998629])"
      ]
     },
     "execution_count": 15,
     "metadata": {},
     "output_type": "execute_result"
    }
   ],
   "source": [
    "data['vector'][1] "
   ]
  },
  {
   "cell_type": "markdown",
   "metadata": {},
   "source": [
    "Access value of second component of `vector` at second timestep"
   ]
  },
  {
   "cell_type": "code",
   "execution_count": 16,
   "metadata": {},
   "outputs": [
    {
     "data": {
      "text/plain": [
       "-0.7033947028105039"
      ]
     },
     "execution_count": 16,
     "metadata": {},
     "output_type": "execute_result"
    }
   ],
   "source": [
    "data['vector'][1,1]"
   ]
  },
  {
   "cell_type": "markdown",
   "metadata": {},
   "source": [
    "## Time Representation\n",
    "\n",
    "A HAPI-compliant server represents time as an ISO 8601 string (with several constraints - see the [HAPI specification](https://github.com/hapi-server/data-specification/blob/master/hapi-dev/HAPI-data-access-spec-dev.md#representation-of-time)). `hapi.py` reads these into a NumPy array of [Python byte literals](https://stackoverflow.com/a/6273618). To convert byte literals to Python `datetime` objects, the function [`hapitime2datetime`](https://github.com/hapi-server/client-python/blob/master/hapiclient/hapi.py) can be used. Internally, this function uses `pandas.to_datetime` for parsing if possible. Otherwise it falls back to a manual method for parsing. The byte literals can also be converted to Astropy time objects as shown below."
   ]
  },
  {
   "cell_type": "code",
   "execution_count": 17,
   "metadata": {},
   "outputs": [],
   "source": [
    "from hapiclient.hapi import hapi\n",
    "from hapiclient.hapi import hapitime2datetime\n",
    "\n",
    "server     = 'http://hapi-server.org/servers/TestData/hapi'\n",
    "dataset    = 'dataset1'\n",
    "parameters = 'scalar,vector'\n",
    "start      = '1970-01-01T00:00:00'\n",
    "stop       = '1970-01-01T00:00:10'\n",
    "\n",
    "data, meta = hapi(server, dataset, parameters, start, stop)"
   ]
  },
  {
   "cell_type": "code",
   "execution_count": 18,
   "metadata": {},
   "outputs": [
    {
     "data": {
      "text/plain": [
       "array([b'1970-01-01T00:00:00.000Z', b'1970-01-01T00:00:01.000Z',\n",
       "       b'1970-01-01T00:00:02.000Z', b'1970-01-01T00:00:03.000Z',\n",
       "       b'1970-01-01T00:00:04.000Z', b'1970-01-01T00:00:05.000Z',\n",
       "       b'1970-01-01T00:00:06.000Z', b'1970-01-01T00:00:07.000Z',\n",
       "       b'1970-01-01T00:00:08.000Z', b'1970-01-01T00:00:09.000Z'],\n",
       "      dtype='|S24')"
      ]
     },
     "execution_count": 18,
     "metadata": {},
     "output_type": "execute_result"
    }
   ],
   "source": [
    "data['Time']"
   ]
  },
  {
   "cell_type": "code",
   "execution_count": 19,
   "metadata": {},
   "outputs": [
    {
     "data": {
      "text/plain": [
       "array([datetime.datetime(1970, 1, 1, 0, 0, tzinfo=<UTC>),\n",
       "       datetime.datetime(1970, 1, 1, 0, 0, 1, tzinfo=<UTC>),\n",
       "       datetime.datetime(1970, 1, 1, 0, 0, 2, tzinfo=<UTC>),\n",
       "       datetime.datetime(1970, 1, 1, 0, 0, 3, tzinfo=<UTC>),\n",
       "       datetime.datetime(1970, 1, 1, 0, 0, 4, tzinfo=<UTC>),\n",
       "       datetime.datetime(1970, 1, 1, 0, 0, 5, tzinfo=<UTC>),\n",
       "       datetime.datetime(1970, 1, 1, 0, 0, 6, tzinfo=<UTC>),\n",
       "       datetime.datetime(1970, 1, 1, 0, 0, 7, tzinfo=<UTC>),\n",
       "       datetime.datetime(1970, 1, 1, 0, 0, 8, tzinfo=<UTC>),\n",
       "       datetime.datetime(1970, 1, 1, 0, 0, 9, tzinfo=<UTC>)], dtype=object)"
      ]
     },
     "execution_count": 19,
     "metadata": {},
     "output_type": "execute_result"
    }
   ],
   "source": [
    "hapitime2datetime(data['Time'])"
   ]
  },
  {
   "cell_type": "code",
   "execution_count": 22,
   "metadata": {},
   "outputs": [
    {
     "name": "stdout",
     "output_type": "stream",
     "text": [
      "Collecting astropy\n",
      "\u001b[?25l  Downloading https://files.pythonhosted.org/packages/43/9c/ee8988caa5926d704c0d5065353f356e3f703a1d6a45b2d714cb9603dafa/astropy-3.1.2-cp36-cp36m-macosx_10_6_intel.macosx_10_9_intel.macosx_10_9_x86_64.macosx_10_10_intel.macosx_10_10_x86_64.whl (8.0MB)\n",
      "\u001b[K     |████████████████████████████████| 8.0MB 15kB/s eta 0:00:013��███████████████▊        | 5.9MB 18kB/s eta 0:01:52  | 7.3MB 21kB/s eta 0:00:32\n",
      "\u001b[?25hRequirement already satisfied: numpy>=1.13.0 in /Users/robertweigel/anaconda3/envs/python3.6/lib/python3.6/site-packages/numpy-1.16.3-py3.6-macosx-10.7-x86_64.egg (from astropy) (1.16.3)\n",
      "Installing collected packages: astropy\n",
      "Successfully installed astropy-3.1.2\n"
     ]
    },
    {
     "data": {
      "text/plain": [
       "<Time object: scale='utc' format='isot' value=['1970-01-01T00:00:00.000' '1970-01-01T00:00:01.000'\n",
       " '1970-01-01T00:00:02.000' '1970-01-01T00:00:03.000'\n",
       " '1970-01-01T00:00:04.000' '1970-01-01T00:00:05.000'\n",
       " '1970-01-01T00:00:06.000' '1970-01-01T00:00:07.000'\n",
       " '1970-01-01T00:00:08.000' '1970-01-01T00:00:09.000']>"
      ]
     },
     "execution_count": 22,
     "metadata": {},
     "output_type": "execute_result"
    }
   ],
   "source": [
    "!pip install astropy\n",
    "from astropy.time import Time\n",
    "Time(data['Time'])"
   ]
  },
  {
   "cell_type": "markdown",
   "metadata": {},
   "source": [
    "The datetime objects are not timezone aware; all HAPI times are UTC and it seems that UTC is generally assumed by Python libraries if no timezone information is given. One known exception is when converting to Unix time."
   ]
  },
  {
   "cell_type": "code",
   "execution_count": null,
   "metadata": {},
   "outputs": [],
   "source": [
    "dateTimes = hapitime2datetime(data['Time'])\n",
    "dateTimes[0].timestamp() # 0.0 is expected but result is given in local timezone"
   ]
  },
  {
   "cell_type": "code",
   "execution_count": null,
   "metadata": {},
   "outputs": [],
   "source": [
    "from datetime import timezone\n",
    "dateTimesUTCAware = [dt.replace(tzinfo=timezone.utc) for dt in dateTimes]\n",
    "dateTimesUTCAware[0].timestamp() # 0.00\n",
    "# See https://stackoverflow.com/a/41624199 for Python 2.7"
   ]
  },
  {
   "cell_type": "markdown",
   "metadata": {},
   "source": [
    "## Generating Data"
   ]
  },
  {
   "cell_type": "markdown",
   "metadata": {},
   "source": [
    "A HAPI response of\n",
    "\n",
    "```\n",
    "1970-01-01T00:00:00.000Z, 1.,2.,3.\n",
    "1970-01-01T00:00:02.000Z, 4.,5.,6.\n",
    "```\n",
    "\n",
    "where the metadata indicates there is one parameter named `vector` with `size=[3]` and `type=double` could be created by"
   ]
  },
  {
   "cell_type": "code",
   "execution_count": null,
   "metadata": {},
   "outputs": [],
   "source": [
    "import numpy as np\n",
    "data = np.ndarray(shape=(2), dtype=[('Time', 'S24'), ('vector', '<f8', (3,))])\n",
    "\n",
    "# Populate: method 1\n",
    "data['Time'] = np.array([b'1970-01-01T00:00:00.000Z', b'1970-01-01T00:00:01.000Z'])\n",
    "data['vector'] = np.array([[1.0,2.0,3.0],[4.0,5.0,6.0]])\n",
    "\n",
    "# Populate: method 2\n",
    "data[0] = (b'1970-01-01T00:00:00.000Z', [1.0,2.0,3.0])\n",
    "data[1] = (b'1970-01-01T00:00:01.000Z', [4.0,5.0,6.0])\n",
    "\n",
    "data"
   ]
  },
  {
   "cell_type": "markdown",
   "metadata": {},
   "source": [
    "A HAPI response of\n",
    "\n",
    "```\n",
    "1970-01-01T00:00:00.000Z, 1.,2.,3.,4.,5.,6.,7.,8.,9.\n",
    "1970-01-01T00:00:02.000Z, 11.,12.,13.,14.,15.,16.,17.,18.,19.\n",
    "```\n",
    "where the metadata indicates there is one parameter named `matrix` with `size=[3,3]` and `type=double` could be created by"
   ]
  },
  {
   "cell_type": "code",
   "execution_count": null,
   "metadata": {},
   "outputs": [],
   "source": [
    "import numpy as np\n",
    "\n",
    "# Allocate\n",
    "data = np.ndarray(shape=(2), dtype=[('Time', 'S24'), ('matrix', '<f8', (3,3,))])\n",
    "\n",
    "# Populate\n",
    "data['Time'] = np.array([b'1970-01-01T00:00:00.000Z', b'1970-01-01T00:00:01.000Z'])\n",
    "data['matrix'] = np.array( [ [[1.0,2.0,3.0],[4.0,5.0,6.0],[7.0,8.0,9.0]], [[11.0,12.0,13.0],[14.0,15.0,16.0],[17.0,18.0,19.0]]] )\n",
    "\n",
    "data"
   ]
  },
  {
   "cell_type": "markdown",
   "metadata": {},
   "source": [
    "Multiple parameters, e.g. a response with both the vector and matrix parameters considered above\n",
    "\n",
    "```\n",
    "1970-01-01T00:00:00.000Z, 1.,2.,3.,  1.,2.,3.,4.,5.,6.,7.,8.,9.\n",
    "1970-01-01T00:00:02.000Z, 4.,5.,6., 11.,12.,13.,14.,15.,16.,17.,18.,19.\n",
    "```\n",
    "\n",
    "can be created by populating"
   ]
  },
  {
   "cell_type": "code",
   "execution_count": null,
   "metadata": {},
   "outputs": [],
   "source": [
    "data = np.ndarray(shape=(2), dtype=[('Time', 'S24'), ('vector', '<f8', (3,)), ('matrix', '<f8', (3,3,))])\n",
    "data['Time'] = np.array([b'1970-01-01T00:00:00.000Z', b'1970-01-01T00:00:01.000Z'])\n",
    "data['vector'] = np.array([[1.0,2.0,3.0],[4.0,5.0,6.0]])\n",
    "data['matrix'] = np.array( [ [[1.0,2.0,3.0],[4.0,5.0,6.0],[7.0,8.0,9.0]], [[11.0,12.0,13.0],[14.0,15.0,16.0],[17.0,18.0,19.0]]] )\n",
    "data"
   ]
  },
  {
   "cell_type": "markdown",
   "metadata": {},
   "source": [
    "## To Pandas DataFrame"
   ]
  },
  {
   "cell_type": "code",
   "execution_count": null,
   "metadata": {},
   "outputs": [],
   "source": [
    "# Get data for use below\n",
    "from hapiclient.hapi import hapi\n",
    "from hapiclient.hapi import hapitime2datetime\n",
    "\n",
    "server     = 'http://hapi-server.org/servers/TestData/hapi'\n",
    "dataset    = 'dataset1'\n",
    "parameters = 'scalar,vector'\n",
    "start      = '1970-01-01T00:00:00'\n",
    "stop       = '1970-01-01T00:00:10'\n",
    "\n",
    "data, meta = hapi(server,dataset,parameters,start,stop)\n",
    "\n",
    "import pandas\n",
    "\n",
    "df_Time = pandas.DataFrame(hapitime2datetime(data['Time']))\n",
    "df_scalar = pandas.DataFrame(data['scalar'])\n",
    "df_vector = pandas.DataFrame(data['vector'])\n",
    "\n",
    "# Create DataFrame\n",
    "df = pandas.DataFrame()\n",
    "\n",
    "# Combine DataFrame\n",
    "df = pandas.concat([df_Time, df_scalar, df_vector], axis=1)\n",
    "\n",
    "# Name columns\n",
    "df.columns = ['Time', 'scalar','vector_x', 'vector_y', 'vector_z']\n",
    "\n",
    "# Set Time to be index\n",
    "df.set_index('Time', inplace=True)\n",
    "\n",
    "df"
   ]
  },
  {
   "cell_type": "markdown",
   "metadata": {},
   "source": [
    "## To Astropy NDArray "
   ]
  },
  {
   "cell_type": "code",
   "execution_count": null,
   "metadata": {},
   "outputs": [],
   "source": [
    "from hapiclient import hapi\n",
    "from hapiclient import hapitime2datetime\n",
    "\n",
    "server     = 'http://hapi-server.org/servers/TestData/hapi'\n",
    "dataset    = 'dataset1'\n",
    "parameters = 'scalar,vector'\n",
    "start      = '1970-01-01T00:00:00'\n",
    "stop       = '1970-01-01T00:00:10'\n",
    "\n",
    "data, meta = hapi(server, dataset, parameters, start, stop)\n",
    "\n",
    "dateTimes = hapitime2datetime(data['Time'])\n",
    "\n",
    "from datetime import timezone\n",
    "times = [dt.replace(tzinfo=timezone.utc).timestamp() for dt in dateTimes]\n",
    "\n",
    "import astropy.wcs\n",
    "import astropy.units as u\n",
    "import numpy as np\n",
    "import ndcube\n",
    "\n",
    "my_wcs = astropy.wcs.WCS({\"CTYPE1\": \"TIME\", \n",
    "                          \"CUNIT1\": \"s\", \n",
    "                          \"CDELT1\": 1, \n",
    "                          \"CRPIX1\": 0, \n",
    "                          \"CRVAL1\": 0, \n",
    "                          \"NAXIS1\": 10})\n",
    "\n",
    "extra_coords = [(\"time\", 0, dateTimes)]\n",
    "\n",
    "cube = ndcube.NDCube(data['scalar'], my_wcs, extra_coords=extra_coords)\n",
    "cube"
   ]
  },
  {
   "cell_type": "markdown",
   "metadata": {},
   "source": [
    "# Plotting"
   ]
  },
  {
   "cell_type": "markdown",
   "metadata": {},
   "source": [
    "## hapiplot\n",
    "\n",
    "The HAPI Python client package comes with a simple plotting function `hapiplot` that plots all of the requested variables.\n",
    "\n",
    "Interally, `hapiplot` uses Matplotlib and the functions `timeseries.py` and  `heatmap.py` in the directory [plot](https://github.com/hapi-server/client-python/tree/master/hapiclient/plot). `hapiplot` plots all of the parameters returned by a call to `hapi` and forms calls to `timeseries.py` and  `heatmap.py` with labels extracted from `meta`."
   ]
  },
  {
   "cell_type": "code",
   "execution_count": null,
   "metadata": {},
   "outputs": [],
   "source": [
    "# Get data for use below\n",
    "from hapiclient import hapiplot\n",
    "\n",
    "server     = 'http://hapi-server.org/servers/TestData/hapi'\n",
    "dataset    = 'dataset1'\n",
    "parameters = 'scalar,vector'\n",
    "start      = '1970-01-01T00:00:00'\n",
    "stop       = '1970-01-01T00:59:59'\n",
    "\n",
    "hapiplot(server, dataset, parameters, start, stop)\n",
    "\n",
    "# or, get data and pass to hapiplot():\n",
    "#\n",
    "# from hapiclient.hapi import hapi\n",
    "# data,meta = hapi(server,dataset,parameters,start,stop)\n",
    "# hapiplot(data, meta)"
   ]
  },
  {
   "cell_type": "markdown",
   "metadata": {},
   "source": [
    "## ViViz Gallery\n",
    "\n",
    "A gallery of images for a given parameter can be visualized using [ViViz](http://viviz.org). Note that only one parameter can be plotted at a time (stack plots not implemented). This server uses `hapiplot.py` on the back-end to generate one plot of the parameter per day over the time range of available data."
   ]
  },
  {
   "cell_type": "code",
   "execution_count": null,
   "metadata": {},
   "outputs": [],
   "source": [
    "from hapiclient import gallery\n",
    "\n",
    "server     = 'http://hapi-server.org/servers/TestData/hapi'\n",
    "dataset    = 'dataset1'\n",
    "parameters = 'vector' \n",
    "start      = '1970-01-01T00:00:00'\n",
    "stop       = '1970-01-01T00:59:59'\n",
    "\n",
    "# Selected dataset and first parmeter in it is shown when ViViz starts\n",
    "# If comma-separated string of parameters, only first is used.\n",
    "gallery(server, dataset, parameters)"
   ]
  },
  {
   "cell_type": "markdown",
   "metadata": {},
   "source": [
    "## Autoplot\n",
    "\n",
    "To view data using the [http://autoplot.org/](Autoplot) application, one can call the function `autoplot` which downloads and starts Autoplot. The first time that `autoplot` is executed, it starts an Autoplot server so that subsequent calls do not require the application to be re-launched. Closing Autoplot will close the server."
   ]
  },
  {
   "cell_type": "code",
   "execution_count": null,
   "metadata": {},
   "outputs": [],
   "source": [
    "from hapiclient import autoplot\n",
    "    \n",
    "server     = 'https://cdaweb.gsfc.nasa.gov/hapi'\n",
    "dataset    = 'AC_H0_MFI'\n",
    "start      = '2001-01-01T05:00:00'\n",
    "stop       = '2001-01-01T06:00:00'\n",
    "parameters = 'Magnitude,BGSEc'\n",
    "opts       = {'logging': True}\n",
    "\n",
    "autoplot(server, dataset, parameters, start, stop, **opts)"
   ]
  },
  {
   "cell_type": "markdown",
   "metadata": {},
   "source": [
    "## PyTplot\n",
    "\n",
    "https://github.com/MAVENSDC/PyTplot\n",
    "\n",
    "First do `pip install pytplot` from the command line to install `pytplot`. After executing the following, a new window should open."
   ]
  },
  {
   "cell_type": "code",
   "execution_count": null,
   "metadata": {},
   "outputs": [],
   "source": [
    "# Get data for use below\n",
    "from hapiclient import hapi\n",
    "\n",
    "server     = 'http://hapi-server.org/servers/TestData/hapi'\n",
    "dataset    = 'dataset1'\n",
    "parameters = 'scalar,vector'\n",
    "start      = '1970-01-01T00:00:00'\n",
    "stop       = '1970-01-01T00:00:10'\n",
    "opts       = {'usecache': True}\n",
    "\n",
    "data,meta = hapi(server,dataset,parameters,start,stop,**opts)\n",
    "\n",
    "from hapiclient import hapitime2datetime\n",
    "\n",
    "if False: # ModuleNotFoundError: No module named 'PyQt5.QtWebKitWidgets'\n",
    "    # Get error in Jupyter: No module named 'PyQt5.QtWebKitWidgets'\n",
    "    import pytplot\n",
    "\n",
    "    # Convert byte array to Python datetime objects.\n",
    "    dateTimes = hapitime2datetime(data['Time'])\n",
    "\n",
    "    from datetime import timezone\n",
    "    # Convert dateTimes to milliseconds since 1970 (used by pyTplot)\n",
    "    # Need to explicilty set timezone to UTC.\n",
    "    dateTimesUnixTime = [dt.replace(tzinfo=timezone.utc).timestamp() for dt in dateTimes]\n",
    "\n",
    "    pytplot.store_data(\"variable1\", data={'x':dateTimesUnixTime,'y': data['scalar']})\n",
    "    pytplot.tplot(0)\n",
    "    # A PyTplot window should have opened."
   ]
  },
  {
   "cell_type": "markdown",
   "metadata": {},
   "source": [
    "## MatplotLib"
   ]
  },
  {
   "cell_type": "code",
   "execution_count": null,
   "metadata": {},
   "outputs": [],
   "source": [
    "# Get data for use below\n",
    "from hapiclient import hapi\n",
    "\n",
    "server     = 'http://hapi-server.org/servers/TestData/hapi'\n",
    "dataset    = 'dataset1'\n",
    "parameters = 'scalar'\n",
    "start      = '1970-01-01T00:00:00'\n",
    "stop       = '1970-01-01T00:00:10'\n",
    "\n",
    "data,meta = hapi(server,dataset,parameters,start,stop)\n",
    "\n",
    "from matplotlib import pyplot as plt\n",
    "from hapiclient import hapitime2datetime\n",
    "%matplotlib inline\n",
    "\n",
    "# Convert data['Time'] elements to Python datetime objects\n",
    "# Note the difference in tick labels when datetimes are used\n",
    "plt.figure()\n",
    "plt.plot(hapitime2datetime(data['Time']),data['scalar'])\n",
    "plt.gcf().autofmt_xdate()\n",
    "plt.title('scalar with Time as datetimes')"
   ]
  },
  {
   "cell_type": "markdown",
   "metadata": {},
   "source": [
    "## Pandas"
   ]
  },
  {
   "cell_type": "code",
   "execution_count": null,
   "metadata": {},
   "outputs": [],
   "source": [
    "# Get data for use below\n",
    "from hapiclient import hapi\n",
    "from hapiclient import hapitime2datetime\n",
    "\n",
    "server     = 'http://hapi-server.org/servers/TestData/hapi'\n",
    "dataset    = 'dataset1'\n",
    "parameters = 'scalar,vector'\n",
    "start      = '1970-01-01T00:00:00'\n",
    "stop       = '1970-01-01T00:00:10'\n",
    "\n",
    "data,meta = hapi(server,dataset,parameters,start,stop)\n",
    "\n",
    "import pandas\n",
    "# Create dataframe\n",
    "df = pandas.DataFrame(data['vector'])\n",
    "\n",
    "# Add column to DataFrame\n",
    "df['Time'] = hapitime2datetime(data['Time'])\n",
    "\n",
    "# Set index\n",
    "df.set_index('Time', inplace=True)\n",
    "\n",
    "# Rename columns\n",
    "df.columns = ['x', 'y', 'z']\n",
    "\n",
    "display(df)\n",
    "\n",
    "%matplotlib inline\n",
    "df.plot()"
   ]
  },
  {
   "cell_type": "markdown",
   "metadata": {},
   "source": [
    "# Metadata\n",
    "\n",
    "The metadata returned by `hapi()` is a straightforward mapping of the JSON metadata from a HAPI server."
   ]
  },
  {
   "cell_type": "markdown",
   "metadata": {},
   "source": [
    "## Servers"
   ]
  },
  {
   "cell_type": "markdown",
   "metadata": {},
   "source": [
    "Equivalent URL: https://github.com/hapi-server/data-specification/blob/master/servers.txt"
   ]
  },
  {
   "cell_type": "code",
   "execution_count": null,
   "metadata": {},
   "outputs": [],
   "source": [
    "from hapiclient import hapi\n",
    "\n",
    "servers = hapi() # servers is an array of URLs\n",
    "display(servers)"
   ]
  },
  {
   "cell_type": "markdown",
   "metadata": {},
   "source": [
    "## Server datasets"
   ]
  },
  {
   "cell_type": "markdown",
   "metadata": {},
   "source": [
    "Equivalent URL: https://cdaweb.gsfc.nasa.gov/hapi/catalog"
   ]
  },
  {
   "cell_type": "code",
   "execution_count": null,
   "metadata": {},
   "outputs": [],
   "source": [
    "from hapiclient import hapi\n",
    "\n",
    "server = 'https://cdaweb.gsfc.nasa.gov/hapi'\n",
    "meta = hapi(server)\n",
    "\n",
    "display(meta)"
   ]
  },
  {
   "cell_type": "markdown",
   "metadata": {},
   "source": [
    "## Dataset  parameters"
   ]
  },
  {
   "cell_type": "markdown",
   "metadata": {},
   "source": [
    "Equivalent URL: https://cdaweb.gsfc.nasa.gov/hapi/info?id=AC_H0_MFI"
   ]
  },
  {
   "cell_type": "code",
   "execution_count": null,
   "metadata": {},
   "outputs": [],
   "source": [
    "from hapiclient import hapi\n",
    "\n",
    "server  = 'https://cdaweb.gsfc.nasa.gov/hapi'\n",
    "dataset = 'AC_H0_MFI'\n",
    "meta = hapi(server,dataset)\n",
    "display(meta)"
   ]
  },
  {
   "cell_type": "markdown",
   "metadata": {},
   "source": [
    "## Parameters\n",
    "\n",
    "Equivalent URL: https://cdaweb.gsfc.nasa.gov/hapi/info?id=AC_H0_MFI&parameters=Magnitude,BGSEc\n",
    "\n",
    "(Except for the addition of internal keys that prefixed by `x_`.)"
   ]
  },
  {
   "cell_type": "code",
   "execution_count": null,
   "metadata": {},
   "outputs": [],
   "source": [
    "from hapiclient import hapi\n",
    "\n",
    "server     = 'https://cdaweb.gsfc.nasa.gov/hapi'\n",
    "dataset    = 'AC_H0_MFI'\n",
    "parameters = 'Magnitude,BGSEc'\n",
    "\n",
    "meta = hapi(server,dataset,parameters)\n",
    "\n",
    "display(meta)"
   ]
  }
 ],
 "metadata": {
  "git": {
   "suppress_output": true
  },
  "kernelspec": {
   "display_name": "Python 3",
   "language": "python",
   "name": "python3"
  },
  "language_info": {
   "codemirror_mode": {
    "name": "ipython",
    "version": 3
   },
   "file_extension": ".py",
   "mimetype": "text/x-python",
   "name": "python",
   "nbconvert_exporter": "python",
   "pygments_lexer": "ipython3",
   "version": "3.6.8"
  }
 },
 "nbformat": 4,
 "nbformat_minor": 2
}
