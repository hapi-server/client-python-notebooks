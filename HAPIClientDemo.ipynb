{
 "cells": [
  {
   "cell_type": "markdown",
   "id": "grand-wildlife",
   "metadata": {},
   "source": [
    "# This notebook provides a demonstration of pulling data from two different HAPI servers."
   ]
  },
  {
   "cell_type": "code",
   "execution_count": null,
   "id": "subtle-sandwich",
   "metadata": {},
   "outputs": [],
   "source": [
    "from hapiclient import hapi\n",
    "from hapiclient import hapitime2datetime\n",
    "import json\n",
    "import numpy as np\n",
    "import datetime\n",
    "import matplotlib\n",
    "from matplotlib import pyplot as plt\n",
    "\n",
    "%matplotlib inline"
   ]
  },
  {
   "cell_type": "markdown",
   "id": "under-syntax",
   "metadata": {},
   "source": [
    "### Let numpy objects full print, even if they are long"
   ]
  },
  {
   "cell_type": "code",
   "execution_count": null,
   "id": "stunning-feature",
   "metadata": {},
   "outputs": [],
   "source": [
    "np.set_printoptions(threshold=np.inf)"
   ]
  },
  {
   "cell_type": "markdown",
   "id": "eligible-royal",
   "metadata": {},
   "source": [
    "### Define the data we want to get, including the HAPI server\n",
    "See http://hapi-server.org/servers/ for a list of other HAPI servers and datasets."
   ]
  },
  {
   "cell_type": "code",
   "execution_count": null,
   "id": "alive-victor",
   "metadata": {},
   "outputs": [],
   "source": [
    "server     = 'https://cdaweb.gsfc.nasa.gov/hapi'\n",
    "dataset    = 'OMNI2_H0_MRG1HR'\n",
    "start      = '2014-12-20T00:00:00'\n",
    "stop       = '2014-12-23T00:00:00'\n",
    "parameters = 'DST1800'\n",
    "opts       = {'logging': False}"
   ]
  },
  {
   "cell_type": "markdown",
   "id": "comfortable-prize",
   "metadata": {},
   "source": [
    "### Get data from the remote server.\n",
    "Print a message when done (may geet some HTTP errors since this server has no certificate)"
   ]
  },
  {
   "cell_type": "code",
   "execution_count": null,
   "id": "ahead-cleveland",
   "metadata": {},
   "outputs": [],
   "source": [
    "data1, meta1 = hapi(server, dataset, parameters, start, stop, **opts)\n",
    "print(\"Loaded data: {} -> {}\".format(dataset, parameters))"
   ]
  },
  {
   "cell_type": "markdown",
   "id": "willing-extent",
   "metadata": {},
   "source": [
    "### Show the metadata fro this dataset.\n",
    "This just prettyprints the JSON content."
   ]
  },
  {
   "cell_type": "code",
   "execution_count": null,
   "id": "annual-yugoslavia",
   "metadata": {},
   "outputs": [],
   "source": [
    "print(json.dumps(meta1,indent=4))"
   ]
  },
  {
   "cell_type": "markdown",
   "id": "overall-blend",
   "metadata": {},
   "source": [
    "### Convert time to Python datetime values.\n",
    "Data comes back as a numpy ndarray.\n",
    "\n",
    "Each parameter in the returned data object is available as a named element based on the parameter name.\n",
    "\n",
    "Here we are just getting shorter names for the named numeric elements."
   ]
  },
  {
   "cell_type": "code",
   "execution_count": null,
   "id": "varying-british",
   "metadata": {},
   "outputs": [],
   "source": [
    "t1 = hapitime2datetime(data1[\"Time\"])\n",
    "d1 = data1[\"DST1800\"]\n",
    "print(d1)"
   ]
  },
  {
   "cell_type": "markdown",
   "id": "educated-annotation",
   "metadata": {},
   "source": [
    "### Let's make a simple plot!"
   ]
  },
  {
   "cell_type": "code",
   "execution_count": null,
   "id": "proved-croatia",
   "metadata": {},
   "outputs": [],
   "source": [
    "plt.plot(t1,d1)\n",
    "plt.gcf().autofmt_xdate()\n",
    "plt.show()"
   ]
  },
  {
   "cell_type": "markdown",
   "id": "sufficient-ministry",
   "metadata": {},
   "source": [
    "### Now get more data from a DIFFERENT HAPI server.\n",
    "\n",
    "Use the same time range.\n",
    "\n",
    "*NOTE* This takes about 10 to 15 seconds to load the data.\n"
   ]
  },
  {
   "cell_type": "code",
   "execution_count": null,
   "id": "harmful-detail",
   "metadata": {},
   "outputs": [],
   "source": [
    "\n",
    "server = \"http://amda.irap.omp.eu/service/hapi\"\n",
    "dataset = \"clust4-cis-prp\"\n",
    "parameters = \"c4_h_dens,c4_h_v,c4_h_t\"\n",
    "data2, meta2 = hapi(server, dataset, parameters, start, stop, **opts)\n",
    "print(\"Loaded data: {} -> {}\".format(dataset, parameters))\n",
    "\n",
    "print(json.dumps(meta2,indent=4))\n",
    "print(data2[:30])\n"
   ]
  },
  {
   "cell_type": "markdown",
   "id": "hired-chemistry",
   "metadata": {},
   "source": [
    "### Now plot this other data."
   ]
  },
  {
   "cell_type": "code",
   "execution_count": null,
   "id": "dress-oriental",
   "metadata": {},
   "outputs": [],
   "source": [
    "t2 = hapitime2datetime(data2[\"Time\"])\n",
    "d2 = data2[\"c4_h_dens\"]\n",
    "plt.plot(t2,d2)\n",
    "plt.gcf().autofmt_xdate()\n",
    "plt.show()"
   ]
  },
  {
   "cell_type": "markdown",
   "id": "cooperative-greene",
   "metadata": {},
   "source": [
    "### Notice all the FILL data.\n",
    "Remove the fill value and replot.\n",
    "Get the fill value right from the metadata.\n",
    "Also get the parameter names for the axes."
   ]
  },
  {
   "cell_type": "code",
   "execution_count": null,
   "id": "timely-session",
   "metadata": {},
   "outputs": [],
   "source": [
    "# parameters are ordered; we want the fill value for the first one\n",
    "fill = float(meta2[\"parameters\"][1][\"fill\"])\n",
    "print(\"fill value is {}\".format(fill))\n",
    "idx = np.where(d2 != fill)\n",
    "# get reduced time and data arrays with no fill values:\n",
    "t2r = t2[idx]\n",
    "d2r = d2[idx]\n",
    "\n",
    "# now plot these with Dst above\n",
    "fig = plt.figure(figsize=[20,8])\n",
    "axes = fig.subplots(2)\n",
    "plt.gcf().autofmt_xdate()\n",
    "axes[1].set_xlabel(meta2[\"parameters\"][0][\"name\"])\n",
    "axes[1].set_ylabel(meta2[\"parameters\"][1][\"name\"])\n",
    "axes[1].plot(t2r,d2r) # h density\n",
    "axes[0].plot(t1,d1)  # Dst\n",
    "plt.show()\n",
    "\n"
   ]
  },
  {
   "cell_type": "markdown",
   "id": "changed-storm",
   "metadata": {},
   "source": [
    "### Get ephemeris data from SSCWeb\n",
    "Also clean it, just in case."
   ]
  },
  {
   "cell_type": "code",
   "execution_count": null,
   "id": "visible-simulation",
   "metadata": {},
   "outputs": [],
   "source": [
    "server = \"http://hapi-server.org/servers/SSCWeb/hapi\"\n",
    "dataset = \"cluster4\"\n",
    "parameters = \"Lon_GSM,Radius\"\n",
    "data3, meta3 = hapi(server, dataset, parameters, start, stop, **opts)\n",
    "time_name = meta3[\"parameters\"][0][\"name\"]\n",
    "dataIdx = 2\n",
    "data_name = meta3[\"parameters\"][dataIdx][\"name\"]\n",
    "t3 = hapitime2datetime(data3[time_name])\n",
    "d3 = data3[data_name]\n",
    "\n",
    "fill = float(meta3[\"parameters\"][dataIdx][\"fill\"])\n",
    "idx3 = np.where(d3 != fill)\n",
    "# get reduced time and data arrays with no fill values:\n",
    "t3r = t3[idx3]\n",
    "d3r = d3[idx3]\n"
   ]
  },
  {
   "cell_type": "markdown",
   "id": "entertaining-colony",
   "metadata": {},
   "source": [
    "### Now plot all three data sources (each from different HAPI server) on the same plot."
   ]
  },
  {
   "cell_type": "code",
   "execution_count": null,
   "id": "immune-segment",
   "metadata": {},
   "outputs": [],
   "source": [
    "plt.rcParams.update({'font.size': 15})\n",
    "\n",
    "fig = plt.figure(figsize=[20,8])\n",
    "axes = fig.subplots(3)\n",
    "plt.gcf().autofmt_xdate()\n",
    "axes[0].set_ylabel(meta1[\"parameters\"][1][\"name\"])\n",
    "axes[0].plot(t1,d1)  # Dst\n",
    "\n",
    "axes[1].set_ylabel(meta2[\"parameters\"][1][\"name\"])\n",
    "axes[1].plot(t2r,d2r) # h density\n",
    "\n",
    "axes[2].set_xlabel(meta3[\"parameters\"][0][\"name\"])\n",
    "axes[2].set_ylabel(meta3[\"parameters\"][dataIdx][\"name\"] + \" \" + meta3[\"parameters\"][dataIdx][\"units\"])\n",
    "axes[2].plot(t3r,d3r) # radius\n",
    "plt.show()\n",
    "\n"
   ]
  },
  {
   "cell_type": "code",
   "execution_count": null,
   "id": "official-audit",
   "metadata": {},
   "outputs": [],
   "source": []
  }
 ],
 "metadata": {
  "kernelspec": {
   "display_name": "Python 3",
   "language": "python",
   "name": "python3"
  },
  "language_info": {
   "codemirror_mode": {
    "name": "ipython",
    "version": 3
   },
   "file_extension": ".py",
   "mimetype": "text/x-python",
   "name": "python",
   "nbconvert_exporter": "python",
   "pygments_lexer": "ipython3",
   "version": "3.7.3"
  }
 },
 "nbformat": 4,
 "nbformat_minor": 5
}
